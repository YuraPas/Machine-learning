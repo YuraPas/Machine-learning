{
 "cells": [
  {
   "cell_type": "code",
   "execution_count": 6,
   "metadata": {},
   "outputs": [],
   "source": [
    "import numpy as np\n",
    "import pandas as pd\n",
    "from sklearn.model_selection import train_test_split\n",
    "from mpl_toolkits.mplot3d import Axes3D\n",
    "import matplotlib.pyplot as plt\n",
    "\n",
    "from matplotlib.colors import ListedColormap\n",
    "cm_bright = ListedColormap(['#FF0000', '#0000FF'])\n",
    "%matplotlib inline"
   ]
  },
  {
   "cell_type": "code",
   "execution_count": 7,
   "metadata": {},
   "outputs": [],
   "source": [
    "def normalize(X):\n",
    "    n = X.shape[0]\n",
    "    mean = np.mean(X, axis=1).reshape((n, 1))\n",
    "    std = np.std(X, axis=1).reshape((n, 1))\n",
    "    X_new = (X - mean) / std**2\n",
    "    return X_new, mean, std"
   ]
  },
  {
   "cell_type": "code",
   "execution_count": 8,
   "metadata": {},
   "outputs": [],
   "source": [
    "def sigmoid(Z):\n",
    "    return 1 / (1 + np.exp(-Z))"
   ]
  },
  {
   "cell_type": "code",
   "execution_count": 9,
   "metadata": {},
   "outputs": [],
   "source": [
    "def plot_data(X, y):\n",
    "    ax = plt.gca()\n",
    "    ax.scatter(X[:,0], X[:,1], c=(y == 1), cmap=cm_bright)"
   ]
  },
  {
   "cell_type": "code",
   "execution_count": 10,
   "metadata": {},
   "outputs": [],
   "source": [
    "def fwd_pass(X, params):\n",
    "    W = params[\"W\"]\n",
    "    b = params[\"b\"]\n",
    "    \n",
    "    Z = np.dot(W, X) + b\n",
    "    A = sigmoid(Z)\n",
    "    \n",
    "    cache = (W, b, Z, A)\n",
    "    \n",
    "    return A, cache"
   ]
  },
  {
   "cell_type": "code",
   "execution_count": 33,
   "metadata": {},
   "outputs": [],
   "source": [
    "def cost(A, Y):\n",
    "    m = Y.shape[1]\n",
    "    \n",
    "    L = - Y * np.log(A) - (1 - Y) * np.log(1 - A)\n",
    "    J = np.sum(L) / m\n",
    "    \n",
    "    return J"
   ]
  },
  {
   "cell_type": "code",
   "execution_count": 53,
   "metadata": {},
   "outputs": [],
   "source": [
    "def bwd_pass(X, Y, cache):\n",
    "    n, m = X.shape\n",
    "    (W, b, Z, A) = cache\n",
    "    \n",
    "    dZ = A - Y\n",
    "    dW = 1. / m * np.dot(X, dZ.T).reshape((1, n))\n",
    "    db = 1. / m * np.sum(dZ)\n",
    "    \n",
    "    grads = {\"dW\" : dW, \"db\" : db, \"dZ\" : dZ}\n",
    "    return grads"
   ]
  },
  {
   "cell_type": "code",
   "execution_count": 13,
   "metadata": {},
   "outputs": [],
   "source": [
    "def init_params(n, m):\n",
    "    W = np.random.randn(1, n) * 0.01\n",
    "    b = 0\n",
    "    \n",
    "    params = {\"W\" : W, \"b\" : b}\n",
    "    return params"
   ]
  },
  {
   "cell_type": "code",
   "execution_count": 14,
   "metadata": {},
   "outputs": [],
   "source": [
    "def update_params(params, grads, learning_rate):\n",
    "    W = params[\"W\"]\n",
    "    b = params[\"b\"]\n",
    "    \n",
    "    dW = grads[\"dW\"]\n",
    "    db = grads[\"db\"]\n",
    "    \n",
    "    params[\"W\"] = W - learning_rate * dW\n",
    "    params[\"b\"] = b - learning_rate * db\n",
    "    \n",
    "    return params"
   ]
  },
  {
   "cell_type": "code",
   "execution_count": 15,
   "metadata": {},
   "outputs": [],
   "source": [
    "def fit(X, Y, learning_rate = 0.01, num_iter = 30000, debug = False):\n",
    "    n, m = X.shape \n",
    "    params = init_params(n, m)\n",
    "    costs = []\n",
    "    for i in range(num_iter):\n",
    "        A, cache = fwd_pass(X, params)\n",
    "        curr_cost = cost(A, Y)\n",
    "        grads = bwd_pass(X, Y, cache)\n",
    "        \n",
    "        params = update_params(params, grads, learning_rate)\n",
    "        \n",
    "        if debug and i % 1000 == 0:\n",
    "            print(\"{}-th iteration: {}\".format(i, curr_cost))\n",
    "            costs.append(curr_cost)\n",
    "    \n",
    "    plt.plot(costs)\n",
    "    plt.ylabel(\"Cost\")\n",
    "    plt.xlabel(\"Iteration, *1000\")\n",
    "    plt.show()\n",
    "    \n",
    "    return params    "
   ]
  },
  {
   "cell_type": "code",
   "execution_count": 54,
   "metadata": {},
   "outputs": [
    {
     "name": "stdout",
     "output_type": "stream",
     "text": [
      "Training set: X=(100, 2), y=(100,)\n"
     ]
    }
   ],
   "source": [
    "data_columns = [\"exam1\", \"exam2\"]\n",
    "target_column = \"submitted\"\n",
    "df = pd.read_csv(\"sats.csv\")\n",
    "X, Y = df[data_columns].values, df[target_column]\n",
    "print('Training set: X={}, y={}'.format(X.shape, Y.shape))"
   ]
  },
  {
   "cell_type": "code",
   "execution_count": 55,
   "metadata": {},
   "outputs": [
    {
     "data": {
      "image/png": "[encoded data removed]",
      "text/plain": [
       "<Figure size 432x288 with 1 Axes>"
      ]
     },
     "metadata": {},
     "output_type": "display_data"
    }
   ],
   "source": [
    "plot_data(X, Y)"
   ]
  },
  {
   "cell_type": "code",
   "execution_count": 56,
   "metadata": {},
   "outputs": [],
   "source": [
    "Y = Y.values.reshape((df.shape[0], 1))"
   ]
  },
  {
   "cell_type": "code",
   "execution_count": 57,
   "metadata": {},
   "outputs": [],
   "source": [
    "X, Y = X.T, Y.T"
   ]
  },
  {
   "cell_type": "code",
   "execution_count": 58,
   "metadata": {},
   "outputs": [],
   "source": [
    "X, mean, std = normalize(X)"
   ]
  },
  {
   "cell_type": "code",
   "execution_count": 59,
   "metadata": {},
   "outputs": [
    {
     "data": {
      "text/plain": [
       "array([[-0.08275779, -0.09432804, -0.07949303, -0.01457083,  0.03571817],\n",
       "       [ 0.03452427, -0.0653091 ,  0.01954037,  0.05875553,  0.02668403]])"
      ]
     },
     "execution_count": 59,
     "metadata": {},
     "output_type": "execute_result"
    }
   ],
   "source": [
    "X[:,:5]"
   ]
  },
  {
   "cell_type": "code",
   "execution_count": 60,
   "metadata": {},
   "outputs": [
    {
     "data": {
      "text/plain": [
       "(1, 100)"
      ]
     },
     "execution_count": 60,
     "metadata": {},
     "output_type": "execute_result"
    }
   ],
   "source": [
    "Y.shape"
   ]
  },
  {
   "cell_type": "code",
   "execution_count": 61,
   "metadata": {},
   "outputs": [
    {
     "data": {
      "text/plain": [
       "array([[65.64427406],\n",
       "       [66.22199809]])"
      ]
     },
     "execution_count": 61,
     "metadata": {},
     "output_type": "execute_result"
    }
   ],
   "source": [
    "mean"
   ]
  },
  {
   "cell_type": "code",
   "execution_count": 62,
   "metadata": {},
   "outputs": [
    {
     "data": {
      "text/plain": [
       "array([[19.36068671],\n",
       "       [18.48963567]])"
      ]
     },
     "execution_count": 62,
     "metadata": {},
     "output_type": "execute_result"
    }
   ],
   "source": [
    "std"
   ]
  },
  {
   "cell_type": "code",
   "execution_count": 72,
   "metadata": {},
   "outputs": [
    {
     "name": "stdout",
     "output_type": "stream",
     "text": [
      "0-th iteration: 0.6934155503145318\n",
      "1000-th iteration: 0.6361908020072761\n",
      "2000-th iteration: 0.6036218769419051\n",
      "3000-th iteration: 0.5749708740052033\n",
      "4000-th iteration: 0.5496967841554907\n",
      "5000-th iteration: 0.5273247679841303\n",
      "6000-th iteration: 0.5074446047505103\n",
      "7000-th iteration: 0.48970563672423817\n",
      "8000-th iteration: 0.47381009540123875\n",
      "9000-th iteration: 0.45950603029346354\n",
      "10000-th iteration: 0.4465805432271448\n",
      "11000-th iteration: 0.4348536766123062\n",
      "12000-th iteration: 0.42417308376289875\n",
      "13000-th iteration: 0.41440948424959806\n",
      "14000-th iteration: 0.4054528438261879\n",
      "15000-th iteration: 0.39720919208480043\n",
      "16000-th iteration: 0.389597985338788\n",
      "17000-th iteration: 0.38254992718249886\n",
      "18000-th iteration: 0.37600516880478935\n",
      "19000-th iteration: 0.36991182215781565\n",
      "20000-th iteration: 0.364224729818271\n",
      "21000-th iteration: 0.3589044450551422\n",
      "22000-th iteration: 0.35391638396987624\n",
      "23000-th iteration: 0.34923011859479763\n",
      "24000-th iteration: 0.34481878563818524\n",
      "25000-th iteration: 0.3406585903098296\n",
      "26000-th iteration: 0.3367283885159588\n",
      "27000-th iteration: 0.3330093338318934\n",
      "28000-th iteration: 0.3294845781799917\n",
      "29000-th iteration: 0.3261390171736882\n",
      "30000-th iteration: 0.32295907273008645\n",
      "31000-th iteration: 0.31993250688063396\n",
      "32000-th iteration: 0.3170482617839696\n",
      "33000-th iteration: 0.31429632181701284\n",
      "34000-th iteration: 0.31166759432963576\n",
      "35000-th iteration: 0.30915380622671157\n",
      "36000-th iteration: 0.3067474140144241\n",
      "37000-th iteration: 0.3044415253357257\n",
      "38000-th iteration: 0.3022298303390247\n",
      "39000-th iteration: 0.3001065414875342\n",
      "40000-th iteration: 0.29806634063464404\n",
      "41000-th iteration: 0.29610433237157197\n",
      "42000-th iteration: 0.29421600280414134\n",
      "43000-th iteration: 0.29239718304125584\n",
      "44000-th iteration: 0.2906440167829383\n",
      "45000-th iteration: 0.28895293148420853\n",
      "46000-th iteration: 0.2873206126455289\n",
      "47000-th iteration: 0.28574398084342245\n",
      "48000-th iteration: 0.2842201711681049\n",
      "49000-th iteration: 0.28274651478016627\n",
      "50000-th iteration: 0.28132052233680627\n",
      "51000-th iteration: 0.2799398690709551\n",
      "52000-th iteration: 0.27860238133469056\n",
      "53000-th iteration: 0.27730602444244146\n",
      "54000-th iteration: 0.2760488916701618\n",
      "55000-th iteration: 0.2748291942844864\n",
      "56000-th iteration: 0.2736452524912809\n",
      "57000-th iteration: 0.2724954872063061\n",
      "58000-th iteration: 0.27137841256227835\n",
      "59000-th iteration: 0.2702926290766363\n",
      "60000-th iteration: 0.26923681741307026\n",
      "61000-th iteration: 0.26820973267748727\n",
      "62000-th iteration: 0.26721019919575595\n",
      "63000-th iteration: 0.26623710572640924\n",
      "64000-th iteration: 0.2652894010666038\n",
      "65000-th iteration: 0.26436609001413486\n",
      "66000-th iteration: 0.2634662296522727\n",
      "67000-th iteration: 0.26258892592767774\n",
      "68000-th iteration: 0.2617333304947434\n",
      "69000-th iteration: 0.2608986378024447\n",
      "70000-th iteration: 0.26008408240219405\n",
      "71000-th iteration: 0.25928893645736095\n",
      "72000-th iteration: 0.25851250743701504\n",
      "73000-th iteration: 0.25775413597815877\n",
      "74000-th iteration: 0.25701319390223376\n",
      "75000-th iteration: 0.2562890823730394\n",
      "76000-th iteration: 0.2555812301844115\n",
      "77000-th iteration: 0.2548890921670963\n",
      "78000-th iteration: 0.25421214770522754\n",
      "79000-th iteration: 0.25354989935368444\n",
      "80000-th iteration: 0.2529018715483973\n",
      "81000-th iteration: 0.25226760940236753\n",
      "82000-th iteration: 0.2516466775808162\n",
      "83000-th iteration: 0.25103865924943114\n",
      "84000-th iteration: 0.25044315509022436\n",
      "85000-th iteration: 0.24985978237995482\n",
      "86000-th iteration: 0.24928817412651788\n",
      "87000-th iteration: 0.24872797825907442\n",
      "88000-th iteration: 0.24817885686804267\n",
      "89000-th iteration: 0.24764048549139822\n",
      "90000-th iteration: 0.24711255244400898\n",
      "91000-th iteration: 0.24659475818699633\n",
      "92000-th iteration: 0.24608681473435243\n",
      "93000-th iteration: 0.2455884450942626\n",
      "94000-th iteration: 0.24509938274277485\n",
      "95000-th iteration: 0.2446193711276471\n",
      "96000-th iteration: 0.24414816320035979\n",
      "97000-th iteration: 0.24368552097444293\n",
      "98000-th iteration: 0.2432312151083968\n",
      "99000-th iteration: 0.2427850245116153\n",
      "100000-th iteration: 0.24234673597184242\n",
      "101000-th iteration: 0.241916143802793\n",
      "102000-th iteration: 0.24149304951067016\n",
      "103000-th iteration: 0.24107726147840164\n",
      "104000-th iteration: 0.24066859466650242\n",
      "105000-th iteration: 0.24026687032954627\n",
      "106000-th iteration: 0.23987191574729672\n",
      "107000-th iteration: 0.239483563969621\n",
      "108000-th iteration: 0.23910165357436244\n",
      "109000-th iteration: 0.23872602843740534\n",
      "110000-th iteration: 0.23835653751422103\n",
      "111000-th iteration: 0.23799303463222618\n",
      "112000-th iteration: 0.237635378293331\n",
      "113000-th iteration: 0.23728343148609882\n",
      "114000-th iteration: 0.2369370615069658\n",
      "115000-th iteration: 0.23659613979002037\n",
      "116000-th iteration: 0.2362605417448595\n",
      "117000-th iteration: 0.2359301466020787\n",
      "118000-th iteration: 0.23560483726597556\n",
      "119000-th iteration: 0.23528450017407715\n",
      "120000-th iteration: 0.23496902516312115\n",
      "121000-th iteration: 0.23465830534114507\n",
      "122000-th iteration: 0.23435223696536192\n",
      "123000-th iteration: 0.23405071932551622\n",
      "124000-th iteration: 0.23375365463243128\n",
      "125000-th iteration: 0.2334609479114831\n",
      "126000-th iteration: 0.23317250690074456\n",
      "127000-th iteration: 0.23288824195356125\n",
      "128000-th iteration: 0.23260806594533498\n",
      "129000-th iteration: 0.23233189418430356\n",
      "130000-th iteration: 0.23205964432611587\n",
      "131000-th iteration: 0.23179123629201484\n",
      "132000-th iteration: 0.23152659219045182\n",
      "133000-th iteration: 0.23126563624196106\n",
      "134000-th iteration: 0.23100829470714185\n",
      "135000-th iteration: 0.23075449581759164\n",
      "136000-th iteration: 0.2305041697096557\n",
      "137000-th iteration: 0.23025724836085426\n",
      "138000-th iteration: 0.23001366552886368\n",
      "139000-th iteration: 0.22977335669293195\n",
      "140000-th iteration: 0.22953625899761318\n",
      "141000-th iteration: 0.22930231119871627\n",
      "142000-th iteration: 0.22907145361136616\n",
      "143000-th iteration: 0.22884362806007766\n",
      "144000-th iteration: 0.22861877783075638\n",
      "145000-th iteration: 0.22839684762453621\n",
      "146000-th iteration: 0.2281777835133715\n",
      "147000-th iteration: 0.22796153289730817\n",
      "148000-th iteration: 0.22774804446335803\n",
      "149000-th iteration: 0.22753726814590525\n",
      "150000-th iteration: 0.227329155088582\n",
      "151000-th iteration: 0.22712365760754483\n",
      "152000-th iteration: 0.22692072915609562\n",
      "153000-th iteration: 0.22672032429058792\n",
      "154000-th iteration: 0.22652239863756318\n",
      "155000-th iteration: 0.22632690886206736\n",
      "156000-th iteration: 0.2261338126370975\n",
      "157000-th iteration: 0.22594306861412963\n",
      "158000-th iteration: 0.2257546363946858\n",
      "159000-th iteration: 0.2255684765028957\n",
      "160000-th iteration: 0.22538455035901303\n",
      "161000-th iteration: 0.22520282025384808\n",
      "162000-th iteration: 0.22502324932407836\n",
      "163000-th iteration: 0.2248458015284027\n",
      "164000-th iteration: 0.22467044162450542\n",
      "165000-th iteration: 0.2244971351467989\n",
      "166000-th iteration: 0.22432584838491196\n",
      "167000-th iteration: 0.224156548362896\n",
      "168000-th iteration: 0.22398920281912219\n",
      "169000-th iteration: 0.22382378018684068\n",
      "170000-th iteration: 0.22366024957537697\n",
      "171000-th iteration: 0.22349858075194248\n",
      "172000-th iteration: 0.2233387441240332\n",
      "173000-th iteration: 0.22318071072239742\n",
      "174000-th iteration: 0.22302445218454806\n",
      "175000-th iteration: 0.22286994073880134\n",
      "176000-th iteration: 0.22271714918882066\n",
      "177000-th iteration: 0.22256605089864884\n",
      "178000-th iteration: 0.2224166197782081\n",
      "179000-th iteration: 0.2222688302692532\n",
      "180000-th iteration: 0.22212265733175982\n",
      "181000-th iteration: 0.2219780764307326\n",
      "182000-th iteration: 0.22183506352341775\n",
      "183000-th iteration: 0.22169359504690644\n",
      "184000-th iteration: 0.2215536479061139\n",
      "185000-th iteration: 0.2214151994621207\n",
      "186000-th iteration: 0.22127822752086593\n",
      "187000-th iteration: 0.22114271032217644\n",
      "188000-th iteration: 0.22100862652912265\n",
      "189000-th iteration: 0.22087595521768935\n",
      "190000-th iteration: 0.2207446758667502\n",
      "191000-th iteration: 0.22061476834833468\n",
      "192000-th iteration: 0.22048621291817927\n",
      "193000-th iteration: 0.22035899020655247\n",
      "194000-th iteration: 0.2202330812093432\n",
      "195000-th iteration: 0.2201084672794059\n",
      "196000-th iteration: 0.21998513011815077\n",
      "197000-th iteration: 0.21986305176737486\n",
      "198000-th iteration: 0.21974221460132232\n",
      "199000-th iteration: 0.2196226013189684\n"
     ]
    },
    {
     "data": {
      "image/png": "[encoded data removed]",
      "text/plain": [
       "<Figure size 432x288 with 1 Axes>"
      ]
     },
     "metadata": {},
     "output_type": "display_data"
    }
   ],
   "source": [
    "params = fit(X, Y, learning_rate = 0.1, num_iter = 200000, debug = True)"
   ]
  },
  {
   "cell_type": "code",
   "execution_count": 73,
   "metadata": {},
   "outputs": [
    {
     "name": "stdout",
     "output_type": "stream",
     "text": [
      "{'W': array([[50.95760724, 44.89503461]]), 'b': 1.1463069667343895}\n"
     ]
    }
   ],
   "source": [
    "print(params)"
   ]
  }
 ],
 "metadata": {
  "kernelspec": {
   "display_name": "Python 3",
   "language": "python",
   "name": "python3"
  },
  "language_info": {
   "codemirror_mode": {
    "name": "ipython",
    "version": 3
   },
   "file_extension": ".py",
   "mimetype": "text/x-python",
   "name": "python",
   "nbconvert_exporter": "python",
   "pygments_lexer": "ipython3",
   "version": "3.6.5"
  }
 },
 "nbformat": 4,
 "nbformat_minor": 1
}
