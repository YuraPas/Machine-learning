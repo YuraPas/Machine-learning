{
 "cells": [
  {
   "cell_type": "code",
   "execution_count": 24,
   "metadata": {},
   "outputs": [],
   "source": [
    "import numpy as np\n",
    "import pandas as pd\n",
    "from sklearn.model_selection import train_test_split\n",
    "import matplotlib.pyplot as plt\n",
    "%matplotlib inline"
   ]
  },
  {
   "cell_type": "markdown",
   "metadata": {},
   "source": [
    "Data analysis"
   ]
  },
  {
   "cell_type": "code",
   "execution_count": 25,
   "metadata": {},
   "outputs": [
    {
     "data": {
      "text/html": [
       "<div>\n",
       "<style scoped>\n",
       "    .dataframe tbody tr th:only-of-type {\n",
       "        vertical-align: middle;\n",
       "    }\n",
       "\n",
       "    .dataframe tbody tr th {\n",
       "        vertical-align: top;\n",
       "    }\n",
       "\n",
       "    .dataframe thead th {\n",
       "        text-align: right;\n",
       "    }\n",
       "</style>\n",
       "<table border=\"1\" class=\"dataframe\">\n",
       "  <thead>\n",
       "    <tr style=\"text-align: right;\">\n",
       "      <th></th>\n",
       "      <th>country</th>\n",
       "      <th>continent</th>\n",
       "      <th>year</th>\n",
       "      <th>lifeExpectancy</th>\n",
       "      <th>population</th>\n",
       "      <th>gdpPerCapita</th>\n",
       "    </tr>\n",
       "  </thead>\n",
       "  <tbody>\n",
       "    <tr>\n",
       "      <th>0</th>\n",
       "      <td>Afghanistan</td>\n",
       "      <td>Asia</td>\n",
       "      <td>1952</td>\n",
       "      <td>28.801</td>\n",
       "      <td>8425333</td>\n",
       "      <td>779.445314</td>\n",
       "    </tr>\n",
       "    <tr>\n",
       "      <th>1</th>\n",
       "      <td>Afghanistan</td>\n",
       "      <td>Asia</td>\n",
       "      <td>1957</td>\n",
       "      <td>30.332</td>\n",
       "      <td>9240934</td>\n",
       "      <td>820.853030</td>\n",
       "    </tr>\n",
       "    <tr>\n",
       "      <th>2</th>\n",
       "      <td>Afghanistan</td>\n",
       "      <td>Asia</td>\n",
       "      <td>1962</td>\n",
       "      <td>31.997</td>\n",
       "      <td>10267083</td>\n",
       "      <td>853.100710</td>\n",
       "    </tr>\n",
       "    <tr>\n",
       "      <th>3</th>\n",
       "      <td>Afghanistan</td>\n",
       "      <td>Asia</td>\n",
       "      <td>1967</td>\n",
       "      <td>34.020</td>\n",
       "      <td>11537966</td>\n",
       "      <td>836.197138</td>\n",
       "    </tr>\n",
       "    <tr>\n",
       "      <th>4</th>\n",
       "      <td>Afghanistan</td>\n",
       "      <td>Asia</td>\n",
       "      <td>1972</td>\n",
       "      <td>36.088</td>\n",
       "      <td>13079460</td>\n",
       "      <td>739.981106</td>\n",
       "    </tr>\n",
       "  </tbody>\n",
       "</table>\n",
       "</div>"
      ],
      "text/plain": [
       "       country continent  year  lifeExpectancy  population  gdpPerCapita\n",
       "0  Afghanistan      Asia  1952          28.801     8425333    779.445314\n",
       "1  Afghanistan      Asia  1957          30.332     9240934    820.853030\n",
       "2  Afghanistan      Asia  1962          31.997    10267083    853.100710\n",
       "3  Afghanistan      Asia  1967          34.020    11537966    836.197138\n",
       "4  Afghanistan      Asia  1972          36.088    13079460    739.981106"
      ]
     },
     "execution_count": 25,
     "metadata": {},
     "output_type": "execute_result"
    }
   ],
   "source": [
    "data = pd.read_csv('countriesData.csv')\n",
    "data.head()"
   ]
  },
  {
   "cell_type": "code",
   "execution_count": 26,
   "metadata": {},
   "outputs": [
    {
     "data": {
      "text/html": [
       "<div>\n",
       "<style scoped>\n",
       "    .dataframe tbody tr th:only-of-type {\n",
       "        vertical-align: middle;\n",
       "    }\n",
       "\n",
       "    .dataframe tbody tr th {\n",
       "        vertical-align: top;\n",
       "    }\n",
       "\n",
       "    .dataframe thead th {\n",
       "        text-align: right;\n",
       "    }\n",
       "</style>\n",
       "<table border=\"1\" class=\"dataframe\">\n",
       "  <thead>\n",
       "    <tr style=\"text-align: right;\">\n",
       "      <th></th>\n",
       "      <th>year</th>\n",
       "      <th>lifeExpectancy</th>\n",
       "      <th>population</th>\n",
       "      <th>gdpPerCapita</th>\n",
       "    </tr>\n",
       "  </thead>\n",
       "  <tbody>\n",
       "    <tr>\n",
       "      <th>year</th>\n",
       "      <td>1.000000</td>\n",
       "      <td>0.435611</td>\n",
       "      <td>0.082308</td>\n",
       "      <td>0.227318</td>\n",
       "    </tr>\n",
       "    <tr>\n",
       "      <th>lifeExpectancy</th>\n",
       "      <td>0.435611</td>\n",
       "      <td>1.000000</td>\n",
       "      <td>0.064955</td>\n",
       "      <td>0.583706</td>\n",
       "    </tr>\n",
       "    <tr>\n",
       "      <th>population</th>\n",
       "      <td>0.082308</td>\n",
       "      <td>0.064955</td>\n",
       "      <td>1.000000</td>\n",
       "      <td>-0.025600</td>\n",
       "    </tr>\n",
       "    <tr>\n",
       "      <th>gdpPerCapita</th>\n",
       "      <td>0.227318</td>\n",
       "      <td>0.583706</td>\n",
       "      <td>-0.025600</td>\n",
       "      <td>1.000000</td>\n",
       "    </tr>\n",
       "  </tbody>\n",
       "</table>\n",
       "</div>"
      ],
      "text/plain": [
       "                    year  lifeExpectancy  population  gdpPerCapita\n",
       "year            1.000000        0.435611    0.082308      0.227318\n",
       "lifeExpectancy  0.435611        1.000000    0.064955      0.583706\n",
       "population      0.082308        0.064955    1.000000     -0.025600\n",
       "gdpPerCapita    0.227318        0.583706   -0.025600      1.000000"
      ]
     },
     "execution_count": 26,
     "metadata": {},
     "output_type": "execute_result"
    }
   ],
   "source": [
    "data.drop(['continent'], axis=1)\n",
    "\n",
    "data.corr()\n",
    "#ВВП"
   ]
  },
  {
   "cell_type": "code",
   "execution_count": 27,
   "metadata": {},
   "outputs": [
    {
     "name": "stdout",
     "output_type": "stream",
     "text": [
      "(1704, 6)\n",
      "****************************************\n",
      "<class 'pandas.core.frame.DataFrame'>\n",
      "RangeIndex: 1704 entries, 0 to 1703\n",
      "Data columns (total 6 columns):\n",
      "country           1704 non-null object\n",
      "continent         1704 non-null object\n",
      "year              1704 non-null int64\n",
      "lifeExpectancy    1704 non-null float64\n",
      "population        1704 non-null int64\n",
      "gdpPerCapita      1704 non-null float64\n",
      "dtypes: float64(2), int64(2), object(2)\n",
      "memory usage: 66.6+ KB\n"
     ]
    }
   ],
   "source": [
    "print(data.shape)\n",
    "print('*' * 40)\n",
    "data.info()"
   ]
  },
  {
   "cell_type": "code",
   "execution_count": 28,
   "metadata": {},
   "outputs": [],
   "source": [
    "def load_datasets(filename,data_columns,target_columns):\n",
    "    \n",
    "    df = pd.read_csv(filename, delimiter=',')\n",
    "    X = df[data_columns]\n",
    "    y = df[target_columns]\n",
    "    return X,y"
   ]
  },
  {
   "cell_type": "code",
   "execution_count": 29,
   "metadata": {},
   "outputs": [],
   "source": [
    "def split_datasets(X, y, test_size = 0.2):\n",
    " \n",
    "    X_train, X_test, y_train, y_test = train_test_split(X, y, test_size=test_size)\n",
    "    \n",
    "    return X_train, X_test, y_train, y_test"
   ]
  },
  {
   "cell_type": "code",
   "execution_count": 30,
   "metadata": {},
   "outputs": [],
   "source": [
    "def normalize(X):\n",
    "\n",
    "    mean = np.mean(X)\n",
    "    std = np.std(X)\n",
    "    X_new = (X-mean)/std\n",
    "    \n",
    "    return X_new, mean, std"
   ]
  },
  {
   "cell_type": "code",
   "execution_count": 31,
   "metadata": {},
   "outputs": [],
   "source": [
    "def prepare_X(X):\n",
    "\n",
    "    m = X.shape[0]\n",
    "    ones = np.ones((m, 1))\n",
    "    X_new = np.array(X[:])\n",
    "    X_new = np.column_stack((ones, X_new))\n",
    "    \n",
    "    return X_new"
   ]
  },
  {
   "cell_type": "code",
   "execution_count": 32,
   "metadata": {},
   "outputs": [],
   "source": [
    "def hypothesis(X, theta):\n",
    "    \n",
    "    h_thetha = np.dot(X,theta)\n",
    "\n",
    "    return h_thetha"
   ]
  },
  {
   "cell_type": "code",
   "execution_count": 33,
   "metadata": {},
   "outputs": [],
   "source": [
    "def cost_function(X, y, theta):\n",
    "  \n",
    "    m = X.shape[0]\n",
    "    if m == 0:\n",
    "        return None\n",
    "    \n",
    "    J = 1 / (2 * m) * sum((hypothesis(X,theta) - y)**2)\n",
    " \n",
    "    return J"
   ]
  },
  {
   "cell_type": "code",
   "execution_count": 34,
   "metadata": {},
   "outputs": [],
   "source": [
    "def derivative(X, y, thetha):\n",
    "    m = X.shape[0]\n",
    "    \n",
    "    d_thetha = np.dot(X.T, hypothesis(X, thetha) - y) / m\n",
    "\n",
    "    return d_thetha"
   ]
  },
  {
   "cell_type": "code",
   "execution_count": 44,
   "metadata": {},
   "outputs": [],
   "source": [
    "def gradient_descent(X, y, theta, alpha, num_iters, print_J = True):\n",
    "    \n",
    "    \n",
    "    m = X.shape[0]\n",
    "    J_history = []\n",
    "    J = cost_function(X, y, theta)\n",
    "    if print_J == True:\n",
    "        print(J)\n",
    "    J_history.append(J)\n",
    "    for i in range(num_iters):\n",
    "\n",
    "        delta = derivative(X,y,theta)/m\n",
    "        theta = theta - alpha * delta\n",
    "        J = cost_function(X,y,theta)\n",
    "\n",
    "        if print_J == True:\n",
    "            print(J)\n",
    "        J_history.append(J)\n",
    "    plt.plot(J_history)\n",
    "    plt.ylabel(\"Cost\")\n",
    "    plt.xlabel(\"Iteration\")\n",
    "    plt.show()\n",
    "    return theta, J_history"
   ]
  },
  {
   "cell_type": "code",
   "execution_count": 45,
   "metadata": {},
   "outputs": [
    {
     "name": "stdout",
     "output_type": "stream",
     "text": [
      "Dataset: X=(1704, 3), y=(1704,)\n"
     ]
    }
   ],
   "source": [
    "data_columns = [\"year\", \"population\", \"gdpPerCapita\"]\n",
    "target_column = \"lifeExpectancy\"\n",
    "X, y = load_datasets('countriesData.csv',data_columns,target_column)\n",
    "print('Dataset: X={}, y={}'.format(X.shape, y.shape))\n",
    "\n",
    "X[\"population\"]=X[\"population\"].div(1000000)"
   ]
  },
  {
   "cell_type": "code",
   "execution_count": 46,
   "metadata": {},
   "outputs": [
    {
     "name": "stdout",
     "output_type": "stream",
     "text": [
      "Training set: X=(1533, 3), y=(1533,)\n",
      "Test set: X=(171, 3), y=(171,)\n"
     ]
    }
   ],
   "source": [
    "X_train, X_test, y_train, y_test = split_datasets(X, y, 0.1)\n",
    "print('Training set: X={}, y={}'.format(X_train.shape, y_train.shape))\n",
    "print('Test set: X={}, y={}'.format(X_test.shape, y_test.shape))"
   ]
  },
  {
   "cell_type": "code",
   "execution_count": 47,
   "metadata": {},
   "outputs": [],
   "source": [
    "X_train_norm, mean, std = normalize(X_train)\n",
    "X = prepare_X(X_train_norm)\n",
    "theta = np.array([0, 0, 0, 0])"
   ]
  },
  {
   "cell_type": "code",
   "execution_count": 48,
   "metadata": {},
   "outputs": [],
   "source": [
    "y = y_train[:]"
   ]
  },
  {
   "cell_type": "code",
   "execution_count": 49,
   "metadata": {},
   "outputs": [
    {
     "name": "stdout",
     "output_type": "stream",
     "text": [
      "X: (1533, 4)\n",
      "y: (1533,)\n",
      "1845.5716005372512\n"
     ]
    }
   ],
   "source": [
    "print('X: {}'.format(X.shape))\n",
    "print('y: {}'.format(y.shape))\n",
    "print(cost_function(X, y, theta))"
   ]
  },
  {
   "cell_type": "code",
   "execution_count": 50,
   "metadata": {},
   "outputs": [],
   "source": [
    "alpha = 50\n",
    "num_iters = 500"
   ]
  },
  {
   "cell_type": "code",
   "execution_count": 51,
   "metadata": {},
   "outputs": [
    {
     "data": {
      "image/png": "[encoded data removed]",
      "text/plain": [
       "<Figure size 432x288 with 1 Axes>"
      ]
     },
     "metadata": {},
     "output_type": "display_data"
    },
    {
     "name": "stdout",
     "output_type": "stream",
     "text": [
      "[59.37307367  3.96360323  0.70925042  6.59213012]\n",
      "47.08914987679709\n"
     ]
    }
   ],
   "source": [
    "new_theta, Js = gradient_descent(X, y, theta, alpha, num_iters, False)\n",
    "print(new_theta)\n",
    "print(cost_function(X, y, new_theta))"
   ]
  },
  {
   "cell_type": "code",
   "execution_count": 52,
   "metadata": {},
   "outputs": [
    {
     "name": "stdout",
     "output_type": "stream",
     "text": [
      "      y_actual     y_pred        err\n",
      "861     76.156  85.034259  11.657991\n",
      "483     38.987  52.162177  33.793771\n",
      "411     72.960  62.102749  14.881100\n",
      "1153    40.080  50.747841  26.616370\n",
      "1003    60.222  57.695724   4.194939\n",
      "677     69.950  61.619194  11.909658\n",
      "1544    58.061  57.992505   0.117971\n",
      "1625    69.481  58.158252  16.296178\n",
      "127     52.337  56.976089   8.863880\n",
      "284     74.126  62.384578  15.839817\n",
      "346     52.970  61.898153  16.855112\n",
      "1685    51.386  54.929749   6.896332\n",
      "510     44.916  55.618002  23.826702\n",
      "658     68.565  61.665865  10.062182\n",
      "1443    42.858  52.751051  23.083324\n",
      "331     47.412  56.809861  19.821693\n",
      "748     71.280  59.010126  17.213628\n",
      "375     68.500  56.175446  17.992050\n",
      "287     78.553  69.518511  11.501138\n",
      "479     71.878  64.547897  10.197979\n",
      "1359    67.946  54.853144  19.269502\n",
      "1025    55.730  55.529517   0.359740\n",
      "180     59.600  49.777556  16.480611\n",
      "162     61.484  58.003367   5.661039\n",
      "1117    38.598  49.839249  29.123916\n",
      "804     43.158  49.143046  13.867756\n",
      "1394    36.981  51.333637  38.810840\n",
      "1098    73.840  66.648798   9.738897\n",
      "1082    73.230  58.925093  19.534217\n",
      "4       36.088  53.273813  47.621961\n",
      "...        ...        ...        ...\n",
      "1261    55.090  51.093757   7.254027\n",
      "439     66.046  58.095945  12.037149\n",
      "635     46.388  61.115664  31.748866\n",
      "1199    71.752  63.519815  11.473108\n",
      "354     73.450  58.482133  20.378307\n",
      "1006    65.033  61.007649   6.189706\n",
      "837     67.727  59.685071  11.874036\n",
      "1308    39.875  52.406084  31.425915\n",
      "1045    41.905  49.633644  18.443250\n",
      "1505    70.590  57.647753  18.334391\n",
      "982     71.954  65.538491   8.916126\n",
      "899     45.678  61.017929  33.582752\n",
      "1079    63.785  61.628051   3.381593\n",
      "97      39.348  50.027764  27.141821\n",
      "465     67.217  61.606380   8.347025\n",
      "1038    42.795  55.379335  29.406086\n",
      "69      78.830  76.363849   3.128442\n",
      "891     41.536  52.035386  25.277797\n",
      "409     71.810  56.616713  21.157621\n",
      "1387    72.250  68.476963   5.222196\n",
      "971     64.164  61.934658   3.474443\n",
      "885     55.558  59.227435   6.604693\n",
      "1552    65.900  57.076231  13.389634\n",
      "89      65.593  66.611059   1.552085\n",
      "1531    66.084  58.444810  11.559817\n",
      "679     69.580  64.776405   6.903701\n",
      "722     49.325  53.318790   8.096889\n",
      "1058    48.386  52.508118   8.519237\n",
      "1060    53.867  55.179304   2.436194\n",
      "1047    49.379  51.951237   5.209171\n",
      "\n",
      "[171 rows x 3 columns]\n",
      "43.198974766180875\n"
     ]
    }
   ],
   "source": [
    "X_test_proc = (X_test-mean)/std\n",
    "X_test_proc = prepare_X(X_test_proc)\n",
    "y_test_pred = hypothesis(X_test_proc, new_theta)\n",
    "rel_diff = np.abs(np.divide(y_test - y_test_pred, y_test)) * 100\n",
    "res = pd.DataFrame({'y_actual' : y_test, 'y_pred' : y_test_pred, 'err' : rel_diff})\n",
    "print(res)\n",
    "print(cost_function(X_test_proc, y_test, new_theta))"
   ]
  }
 ],
 "metadata": {
  "kernelspec": {
   "display_name": "Python 3",
   "language": "python",
   "name": "python3"
  },
  "language_info": {
   "codemirror_mode": {
    "name": "ipython",
    "version": 3
   },
   "file_extension": ".py",
   "mimetype": "text/x-python",
   "name": "python",
   "nbconvert_exporter": "python",
   "pygments_lexer": "ipython3",
   "version": "3.6.5"
  }
 },
 "nbformat": 4,
 "nbformat_minor": 2
}
